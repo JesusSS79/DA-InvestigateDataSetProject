{
 "cells": [
  {
   "cell_type": "markdown",
   "metadata": {},
   "source": [
    "# Project: US Gun Permit Analysis\n",
    "\n",
    "## Table of Contents\n",
    "<ul>\n",
    "<li><a href=\"#intro\">Introduction</a></li>\n",
    "<li><a href=\"#wrangling\">Data Wrangling</a></li>\n",
    "<li><a href=\"#eda\">Exploratory Data Analysis</a></li>\n",
    "<li><a href=\"#conclusions\">Conclusions</a></li>\n",
    "</ul>"
   ]
  },
  {
   "cell_type": "markdown",
   "metadata": {},
   "source": [
    "<a id='intro'></a>\n",
    "## Introduction\n",
    "\n",
    "> The purpose of this analysis is to know the relation between the gun permits on US and parameters as the states, health insurance, educational level or wealth level. \n",
    "Does the application for weapons permits depend on the educational or wealth level?\n",
    "Witch state has the highest number of gun owners? Witch the lowest? What differences are ther between this two states?"
   ]
  },
  {
   "cell_type": "code",
   "execution_count": 77,
   "metadata": {},
   "outputs": [],
   "source": [
    "# Use this cell to set up import statements for all of the packages that you\n",
    "#   plan to use.\n",
    "\n",
    "# Remember to include a 'magic word' so that your visualizations are plotted\n",
    "#   inline with the notebook. See this page for more:\n",
    "#   http://ipython.readthedocs.io/en/stable/interactive/magics.html\n",
    "import numpy as np\n",
    "import pandas as pd\n",
    "import matplotlib.pyplot as plt\n",
    "import seaborn as sns\n",
    "%matplotlib inline"
   ]
  },
  {
   "cell_type": "markdown",
   "metadata": {},
   "source": [
    "<a id='wrangling'></a>\n",
    "## Data Wrangling\n",
    "\n",
    "### General Properties"
   ]
  },
  {
   "cell_type": "markdown",
   "metadata": {},
   "source": [
    "> We load the information of American census with the properties that interest us (Population, Graduate(%), Degree(%), No Insurance(%), Incomes($), Poverty(%))"
   ]
  },
  {
   "cell_type": "code",
   "execution_count": 78,
   "metadata": {},
   "outputs": [],
   "source": [
    "df_census = pd.read_csv(\"U.S. Census Data.csv\")\n",
    "df_census.columns.str.strip()\n",
    "\n",
    "#Get population\n",
    "population = df_census.iloc[0]\n",
    "#Get high school graduate or higher, percent\n",
    "graduatePercent = df_census.iloc[34]\n",
    "#Get bachelor's degree or higher, percent\n",
    "degreePercent = df_census.iloc[35]\n",
    "#Get persons without health insurance, percent\n",
    "noInsurancePercent = df_census.iloc[37]\n",
    "#Get per capita incomes\n",
    "incomes = df_census.iloc[48]\n",
    "#Get persons in poverty, percent\n",
    "povertyPercent = df_census.iloc[49]\n",
    "\n",
    "df_custom_census = pd.concat([population, graduatePercent, degreePercent, noInsurancePercent, incomes, povertyPercent]\n",
    "                             , keys=['Population','Graduate(%)','Degree(%)','No Insurance(%)','Incomes($)','Poverty(%)']\n",
    "                             , axis=1)\n",
    "df_custom_census.drop(['Fact','Fact Note'], inplace=True)\n",
    "df_custom_census.index.name = 'State'"
   ]
  },
  {
   "cell_type": "code",
   "execution_count": 79,
   "metadata": {},
   "outputs": [
    {
     "data": {
      "text/html": [
       "<div>\n",
       "<style>\n",
       "    .dataframe thead tr:only-child th {\n",
       "        text-align: right;\n",
       "    }\n",
       "\n",
       "    .dataframe thead th {\n",
       "        text-align: left;\n",
       "    }\n",
       "\n",
       "    .dataframe tbody tr th {\n",
       "        vertical-align: top;\n",
       "    }\n",
       "</style>\n",
       "<table border=\"1\" class=\"dataframe\">\n",
       "  <thead>\n",
       "    <tr style=\"text-align: right;\">\n",
       "      <th></th>\n",
       "      <th>Population</th>\n",
       "      <th>Graduate(%)</th>\n",
       "      <th>Degree(%)</th>\n",
       "      <th>No Insurance(%)</th>\n",
       "      <th>Incomes($)</th>\n",
       "      <th>Poverty(%)</th>\n",
       "    </tr>\n",
       "    <tr>\n",
       "      <th>State</th>\n",
       "      <th></th>\n",
       "      <th></th>\n",
       "      <th></th>\n",
       "      <th></th>\n",
       "      <th></th>\n",
       "      <th></th>\n",
       "    </tr>\n",
       "  </thead>\n",
       "  <tbody>\n",
       "    <tr>\n",
       "      <th>Alabama</th>\n",
       "      <td>4,863,300</td>\n",
       "      <td>84.30%</td>\n",
       "      <td>23.50%</td>\n",
       "      <td>10.70%</td>\n",
       "      <td>$24,091</td>\n",
       "      <td>17.10%</td>\n",
       "    </tr>\n",
       "    <tr>\n",
       "      <th>Alaska</th>\n",
       "      <td>741,894</td>\n",
       "      <td>92.10%</td>\n",
       "      <td>28.00%</td>\n",
       "      <td>15.50%</td>\n",
       "      <td>$33,413</td>\n",
       "      <td>9.90%</td>\n",
       "    </tr>\n",
       "    <tr>\n",
       "      <th>Arizona</th>\n",
       "      <td>6,931,071</td>\n",
       "      <td>86.00%</td>\n",
       "      <td>27.50%</td>\n",
       "      <td>11.90%</td>\n",
       "      <td>$25,848</td>\n",
       "      <td>16.40%</td>\n",
       "    </tr>\n",
       "    <tr>\n",
       "      <th>Arkansas</th>\n",
       "      <td>2,988,248</td>\n",
       "      <td>84.80%</td>\n",
       "      <td>21.10%</td>\n",
       "      <td>9.30%</td>\n",
       "      <td>$22,798</td>\n",
       "      <td>17.20%</td>\n",
       "    </tr>\n",
       "    <tr>\n",
       "      <th>California</th>\n",
       "      <td>39,250,017</td>\n",
       "      <td>81.80%</td>\n",
       "      <td>31.40%</td>\n",
       "      <td>8.30%</td>\n",
       "      <td>$30,318</td>\n",
       "      <td>14.30%</td>\n",
       "    </tr>\n",
       "  </tbody>\n",
       "</table>\n",
       "</div>"
      ],
      "text/plain": [
       "            Population Graduate(%) Degree(%) No Insurance(%) Incomes($)  \\\n",
       "State                                                                     \n",
       "Alabama      4,863,300      84.30%    23.50%          10.70%   $24,091    \n",
       "Alaska         741,894      92.10%    28.00%          15.50%   $33,413    \n",
       "Arizona      6,931,071      86.00%    27.50%          11.90%   $25,848    \n",
       "Arkansas     2,988,248      84.80%    21.10%           9.30%   $22,798    \n",
       "California  39,250,017      81.80%    31.40%           8.30%   $30,318    \n",
       "\n",
       "           Poverty(%)  \n",
       "State                  \n",
       "Alabama        17.10%  \n",
       "Alaska          9.90%  \n",
       "Arizona        16.40%  \n",
       "Arkansas       17.20%  \n",
       "California     14.30%  "
      ]
     },
     "execution_count": 79,
     "metadata": {},
     "output_type": "execute_result"
    }
   ],
   "source": [
    "df_custom_census.head()"
   ]
  },
  {
   "cell_type": "code",
   "execution_count": 80,
   "metadata": {},
   "outputs": [
    {
     "data": {
      "text/plain": [
       "(50, 6)"
      ]
     },
     "execution_count": 80,
     "metadata": {},
     "output_type": "execute_result"
    }
   ],
   "source": [
    "df_custom_census.shape"
   ]
  },
  {
   "cell_type": "code",
   "execution_count": 81,
   "metadata": {},
   "outputs": [
    {
     "name": "stdout",
     "output_type": "stream",
     "text": [
      "<class 'pandas.core.frame.DataFrame'>\n",
      "Index: 50 entries, Alabama to Wyoming\n",
      "Data columns (total 6 columns):\n",
      "Population         50 non-null object\n",
      "Graduate(%)        50 non-null object\n",
      "Degree(%)          50 non-null object\n",
      "No Insurance(%)    50 non-null object\n",
      "Incomes($)         50 non-null object\n",
      "Poverty(%)         50 non-null object\n",
      "dtypes: object(6)\n",
      "memory usage: 2.7+ KB\n"
     ]
    }
   ],
   "source": [
    "df_custom_census.info()"
   ]
  },
  {
   "cell_type": "markdown",
   "metadata": {},
   "source": [
    "> We load the information of Gun Data of the last year with the properties that interest us (state and handgun)"
   ]
  },
  {
   "cell_type": "code",
   "execution_count": 82,
   "metadata": {},
   "outputs": [],
   "source": [
    "df_gunData = pd.read_excel(\"gun_data.xlsx\")\n",
    "df_gunData.columns.str.strip()\n",
    "\n",
    "#Filter per month, state and permit\n",
    "df_gunData = df_gunData[['month','state','handgun']]\n",
    "\n",
    "#Filter data for last 1 year (column month). From 2016,10 to 2017,09\n",
    "#Grouped by \"state\" performing the average of rest of columns\n",
    "df_gunData_grouped = df_gunData[df_gunData['month'] > '2016-10'].groupby(['state']).mean()\n",
    "df_gunData_grouped.index.name = 'State'\n",
    "df_gunData_grouped.columns = ['Handgun']"
   ]
  },
  {
   "cell_type": "code",
   "execution_count": 83,
   "metadata": {},
   "outputs": [
    {
     "data": {
      "text/html": [
       "<div>\n",
       "<style>\n",
       "    .dataframe thead tr:only-child th {\n",
       "        text-align: right;\n",
       "    }\n",
       "\n",
       "    .dataframe thead th {\n",
       "        text-align: left;\n",
       "    }\n",
       "\n",
       "    .dataframe tbody tr th {\n",
       "        vertical-align: top;\n",
       "    }\n",
       "</style>\n",
       "<table border=\"1\" class=\"dataframe\">\n",
       "  <thead>\n",
       "    <tr style=\"text-align: right;\">\n",
       "      <th></th>\n",
       "      <th>Handgun</th>\n",
       "    </tr>\n",
       "    <tr>\n",
       "      <th>State</th>\n",
       "      <th></th>\n",
       "    </tr>\n",
       "  </thead>\n",
       "  <tbody>\n",
       "    <tr>\n",
       "      <th>Alabama</th>\n",
       "      <td>8430.181818</td>\n",
       "    </tr>\n",
       "    <tr>\n",
       "      <th>Alaska</th>\n",
       "      <td>2916.272727</td>\n",
       "    </tr>\n",
       "    <tr>\n",
       "      <th>Arizona</th>\n",
       "      <td>13132.090909</td>\n",
       "    </tr>\n",
       "    <tr>\n",
       "      <th>Arkansas</th>\n",
       "      <td>6134.090909</td>\n",
       "    </tr>\n",
       "    <tr>\n",
       "      <th>California</th>\n",
       "      <td>45531.272727</td>\n",
       "    </tr>\n",
       "  </tbody>\n",
       "</table>\n",
       "</div>"
      ],
      "text/plain": [
       "                 Handgun\n",
       "State                   \n",
       "Alabama      8430.181818\n",
       "Alaska       2916.272727\n",
       "Arizona     13132.090909\n",
       "Arkansas     6134.090909\n",
       "California  45531.272727"
      ]
     },
     "execution_count": 83,
     "metadata": {},
     "output_type": "execute_result"
    }
   ],
   "source": [
    "df_gunData_grouped.head()"
   ]
  },
  {
   "cell_type": "code",
   "execution_count": 84,
   "metadata": {},
   "outputs": [
    {
     "data": {
      "text/plain": [
       "(55, 1)"
      ]
     },
     "execution_count": 84,
     "metadata": {},
     "output_type": "execute_result"
    }
   ],
   "source": [
    "df_gunData_grouped.shape"
   ]
  },
  {
   "cell_type": "code",
   "execution_count": 85,
   "metadata": {},
   "outputs": [
    {
     "name": "stdout",
     "output_type": "stream",
     "text": [
      "<class 'pandas.core.frame.DataFrame'>\n",
      "Index: 55 entries, Alabama to Wyoming\n",
      "Data columns (total 1 columns):\n",
      "Handgun    55 non-null float64\n",
      "dtypes: float64(1)\n",
      "memory usage: 880.0+ bytes\n"
     ]
    }
   ],
   "source": [
    "df_gunData_grouped.info()"
   ]
  },
  {
   "cell_type": "markdown",
   "metadata": {},
   "source": [
    "> Concatenate the two dataSet"
   ]
  },
  {
   "cell_type": "code",
   "execution_count": 86,
   "metadata": {},
   "outputs": [],
   "source": [
    "df = pd.concat([df_custom_census, df_gunData_grouped], join='inner', axis=1)"
   ]
  },
  {
   "cell_type": "code",
   "execution_count": 87,
   "metadata": {},
   "outputs": [
    {
     "data": {
      "text/html": [
       "<div>\n",
       "<style>\n",
       "    .dataframe thead tr:only-child th {\n",
       "        text-align: right;\n",
       "    }\n",
       "\n",
       "    .dataframe thead th {\n",
       "        text-align: left;\n",
       "    }\n",
       "\n",
       "    .dataframe tbody tr th {\n",
       "        vertical-align: top;\n",
       "    }\n",
       "</style>\n",
       "<table border=\"1\" class=\"dataframe\">\n",
       "  <thead>\n",
       "    <tr style=\"text-align: right;\">\n",
       "      <th></th>\n",
       "      <th>Population</th>\n",
       "      <th>Graduate(%)</th>\n",
       "      <th>Degree(%)</th>\n",
       "      <th>No Insurance(%)</th>\n",
       "      <th>Incomes($)</th>\n",
       "      <th>Poverty(%)</th>\n",
       "      <th>Handgun</th>\n",
       "    </tr>\n",
       "    <tr>\n",
       "      <th>State</th>\n",
       "      <th></th>\n",
       "      <th></th>\n",
       "      <th></th>\n",
       "      <th></th>\n",
       "      <th></th>\n",
       "      <th></th>\n",
       "      <th></th>\n",
       "    </tr>\n",
       "  </thead>\n",
       "  <tbody>\n",
       "    <tr>\n",
       "      <th>Alabama</th>\n",
       "      <td>4,863,300</td>\n",
       "      <td>84.30%</td>\n",
       "      <td>23.50%</td>\n",
       "      <td>10.70%</td>\n",
       "      <td>$24,091</td>\n",
       "      <td>17.10%</td>\n",
       "      <td>8430.181818</td>\n",
       "    </tr>\n",
       "    <tr>\n",
       "      <th>Alaska</th>\n",
       "      <td>741,894</td>\n",
       "      <td>92.10%</td>\n",
       "      <td>28.00%</td>\n",
       "      <td>15.50%</td>\n",
       "      <td>$33,413</td>\n",
       "      <td>9.90%</td>\n",
       "      <td>2916.272727</td>\n",
       "    </tr>\n",
       "    <tr>\n",
       "      <th>Arizona</th>\n",
       "      <td>6,931,071</td>\n",
       "      <td>86.00%</td>\n",
       "      <td>27.50%</td>\n",
       "      <td>11.90%</td>\n",
       "      <td>$25,848</td>\n",
       "      <td>16.40%</td>\n",
       "      <td>13132.090909</td>\n",
       "    </tr>\n",
       "    <tr>\n",
       "      <th>Arkansas</th>\n",
       "      <td>2,988,248</td>\n",
       "      <td>84.80%</td>\n",
       "      <td>21.10%</td>\n",
       "      <td>9.30%</td>\n",
       "      <td>$22,798</td>\n",
       "      <td>17.20%</td>\n",
       "      <td>6134.090909</td>\n",
       "    </tr>\n",
       "    <tr>\n",
       "      <th>California</th>\n",
       "      <td>39,250,017</td>\n",
       "      <td>81.80%</td>\n",
       "      <td>31.40%</td>\n",
       "      <td>8.30%</td>\n",
       "      <td>$30,318</td>\n",
       "      <td>14.30%</td>\n",
       "      <td>45531.272727</td>\n",
       "    </tr>\n",
       "  </tbody>\n",
       "</table>\n",
       "</div>"
      ],
      "text/plain": [
       "            Population Graduate(%) Degree(%) No Insurance(%) Incomes($)  \\\n",
       "State                                                                     \n",
       "Alabama      4,863,300      84.30%    23.50%          10.70%   $24,091    \n",
       "Alaska         741,894      92.10%    28.00%          15.50%   $33,413    \n",
       "Arizona      6,931,071      86.00%    27.50%          11.90%   $25,848    \n",
       "Arkansas     2,988,248      84.80%    21.10%           9.30%   $22,798    \n",
       "California  39,250,017      81.80%    31.40%           8.30%   $30,318    \n",
       "\n",
       "           Poverty(%)       Handgun  \n",
       "State                                \n",
       "Alabama        17.10%   8430.181818  \n",
       "Alaska          9.90%   2916.272727  \n",
       "Arizona        16.40%  13132.090909  \n",
       "Arkansas       17.20%   6134.090909  \n",
       "California     14.30%  45531.272727  "
      ]
     },
     "execution_count": 87,
     "metadata": {},
     "output_type": "execute_result"
    }
   ],
   "source": [
    "df.head()"
   ]
  },
  {
   "cell_type": "code",
   "execution_count": 88,
   "metadata": {},
   "outputs": [
    {
     "data": {
      "text/plain": [
       "(50, 7)"
      ]
     },
     "execution_count": 88,
     "metadata": {},
     "output_type": "execute_result"
    }
   ],
   "source": [
    "df.shape"
   ]
  },
  {
   "cell_type": "code",
   "execution_count": 89,
   "metadata": {},
   "outputs": [
    {
     "name": "stdout",
     "output_type": "stream",
     "text": [
      "<class 'pandas.core.frame.DataFrame'>\n",
      "Index: 50 entries, Alabama to Wyoming\n",
      "Data columns (total 7 columns):\n",
      "Population         50 non-null object\n",
      "Graduate(%)        50 non-null object\n",
      "Degree(%)          50 non-null object\n",
      "No Insurance(%)    50 non-null object\n",
      "Incomes($)         50 non-null object\n",
      "Poverty(%)         50 non-null object\n",
      "Handgun            50 non-null float64\n",
      "dtypes: float64(1), object(6)\n",
      "memory usage: 3.1+ KB\n"
     ]
    }
   ],
   "source": [
    "df.info()"
   ]
  },
  {
   "cell_type": "markdown",
   "metadata": {},
   "source": [
    "### Data Cleaning\n",
    "\n",
    "> We review the data by formatting them to numerals\n",
    "It is necessary that we remove characters such as ($,%), homogenize some percentages (relative to 1 instead of 100) and eliminate values out of 25-75% on handgun values that may be poorly acquired."
   ]
  },
  {
   "cell_type": "code",
   "execution_count": 90,
   "metadata": {},
   "outputs": [
    {
     "data": {
      "text/html": [
       "<div>\n",
       "<style>\n",
       "    .dataframe thead tr:only-child th {\n",
       "        text-align: right;\n",
       "    }\n",
       "\n",
       "    .dataframe thead th {\n",
       "        text-align: left;\n",
       "    }\n",
       "\n",
       "    .dataframe tbody tr th {\n",
       "        vertical-align: top;\n",
       "    }\n",
       "</style>\n",
       "<table border=\"1\" class=\"dataframe\">\n",
       "  <thead>\n",
       "    <tr style=\"text-align: right;\">\n",
       "      <th></th>\n",
       "      <th>Population</th>\n",
       "      <th>Graduate(%)</th>\n",
       "      <th>Degree(%)</th>\n",
       "      <th>No Insurance(%)</th>\n",
       "      <th>Incomes($)</th>\n",
       "      <th>Poverty(%)</th>\n",
       "      <th>Handgun</th>\n",
       "    </tr>\n",
       "    <tr>\n",
       "      <th>State</th>\n",
       "      <th></th>\n",
       "      <th></th>\n",
       "      <th></th>\n",
       "      <th></th>\n",
       "      <th></th>\n",
       "      <th></th>\n",
       "      <th></th>\n",
       "    </tr>\n",
       "  </thead>\n",
       "  <tbody>\n",
       "    <tr>\n",
       "      <th>Alabama</th>\n",
       "      <td>4,863,300</td>\n",
       "      <td>84.30%</td>\n",
       "      <td>23.50%</td>\n",
       "      <td>10.70%</td>\n",
       "      <td>$24,091</td>\n",
       "      <td>17.10%</td>\n",
       "      <td>8430.181818</td>\n",
       "    </tr>\n",
       "    <tr>\n",
       "      <th>Alaska</th>\n",
       "      <td>741,894</td>\n",
       "      <td>92.10%</td>\n",
       "      <td>28.00%</td>\n",
       "      <td>15.50%</td>\n",
       "      <td>$33,413</td>\n",
       "      <td>9.90%</td>\n",
       "      <td>2916.272727</td>\n",
       "    </tr>\n",
       "    <tr>\n",
       "      <th>Arizona</th>\n",
       "      <td>6,931,071</td>\n",
       "      <td>86.00%</td>\n",
       "      <td>27.50%</td>\n",
       "      <td>11.90%</td>\n",
       "      <td>$25,848</td>\n",
       "      <td>16.40%</td>\n",
       "      <td>13132.090909</td>\n",
       "    </tr>\n",
       "    <tr>\n",
       "      <th>Arkansas</th>\n",
       "      <td>2,988,248</td>\n",
       "      <td>84.80%</td>\n",
       "      <td>21.10%</td>\n",
       "      <td>9.30%</td>\n",
       "      <td>$22,798</td>\n",
       "      <td>17.20%</td>\n",
       "      <td>6134.090909</td>\n",
       "    </tr>\n",
       "    <tr>\n",
       "      <th>California</th>\n",
       "      <td>39,250,017</td>\n",
       "      <td>81.80%</td>\n",
       "      <td>31.40%</td>\n",
       "      <td>8.30%</td>\n",
       "      <td>$30,318</td>\n",
       "      <td>14.30%</td>\n",
       "      <td>45531.272727</td>\n",
       "    </tr>\n",
       "    <tr>\n",
       "      <th>Colorado</th>\n",
       "      <td>5,540,545</td>\n",
       "      <td>90.70%</td>\n",
       "      <td>38.10%</td>\n",
       "      <td>8.60%</td>\n",
       "      <td>$32,217</td>\n",
       "      <td>11.00%</td>\n",
       "      <td>19281.454545</td>\n",
       "    </tr>\n",
       "    <tr>\n",
       "      <th>Connecticut</th>\n",
       "      <td>3,576,452</td>\n",
       "      <td>89.90%</td>\n",
       "      <td>37.60%</td>\n",
       "      <td>5.70%</td>\n",
       "      <td>$38,803</td>\n",
       "      <td>9.80%</td>\n",
       "      <td>6309.454545</td>\n",
       "    </tr>\n",
       "    <tr>\n",
       "      <th>Delaware</th>\n",
       "      <td>952,065</td>\n",
       "      <td>88.40%</td>\n",
       "      <td>30.00%</td>\n",
       "      <td>6.60%</td>\n",
       "      <td>$30,554</td>\n",
       "      <td>11.70%</td>\n",
       "      <td>1980.727273</td>\n",
       "    </tr>\n",
       "    <tr>\n",
       "      <th>Florida</th>\n",
       "      <td>20,612,439</td>\n",
       "      <td>86.90%</td>\n",
       "      <td>27.30%</td>\n",
       "      <td>15.30%</td>\n",
       "      <td>$26,829</td>\n",
       "      <td>14.70%</td>\n",
       "      <td>53799.454545</td>\n",
       "    </tr>\n",
       "    <tr>\n",
       "      <th>Georgia</th>\n",
       "      <td>10,310,371</td>\n",
       "      <td>85.40%</td>\n",
       "      <td>28.80%</td>\n",
       "      <td>14.80%</td>\n",
       "      <td>$25,737</td>\n",
       "      <td>16.00%</td>\n",
       "      <td>14998.818182</td>\n",
       "    </tr>\n",
       "    <tr>\n",
       "      <th>Hawaii</th>\n",
       "      <td>1,428,557</td>\n",
       "      <td>91.00%</td>\n",
       "      <td>30.80%</td>\n",
       "      <td>4.20%</td>\n",
       "      <td>$29,822</td>\n",
       "      <td>9.30%</td>\n",
       "      <td>0.000000</td>\n",
       "    </tr>\n",
       "    <tr>\n",
       "      <th>Idaho</th>\n",
       "      <td>1,683,140</td>\n",
       "      <td>89.50%</td>\n",
       "      <td>25.90%</td>\n",
       "      <td>11.80%</td>\n",
       "      <td>$23,399</td>\n",
       "      <td>14.40%</td>\n",
       "      <td>3754.272727</td>\n",
       "    </tr>\n",
       "    <tr>\n",
       "      <th>Illinois</th>\n",
       "      <td>12,801,539</td>\n",
       "      <td>87.90%</td>\n",
       "      <td>32.30%</td>\n",
       "      <td>7.40%</td>\n",
       "      <td>$30,494</td>\n",
       "      <td>13.00%</td>\n",
       "      <td>24201.545455</td>\n",
       "    </tr>\n",
       "    <tr>\n",
       "      <th>Indiana</th>\n",
       "      <td>6,633,053</td>\n",
       "      <td>87.80%</td>\n",
       "      <td>24.10%</td>\n",
       "      <td>9.40%</td>\n",
       "      <td>$25,346</td>\n",
       "      <td>14.10%</td>\n",
       "      <td>21761.636364</td>\n",
       "    </tr>\n",
       "    <tr>\n",
       "      <th>Iowa</th>\n",
       "      <td>3,134,693</td>\n",
       "      <td>91.50%</td>\n",
       "      <td>26.70%</td>\n",
       "      <td>5.00%</td>\n",
       "      <td>$27,950</td>\n",
       "      <td>11.80%</td>\n",
       "      <td>229.909091</td>\n",
       "    </tr>\n",
       "    <tr>\n",
       "      <th>Kansas</th>\n",
       "      <td>2,907,289</td>\n",
       "      <td>90.20%</td>\n",
       "      <td>31.00%</td>\n",
       "      <td>10.10%</td>\n",
       "      <td>$27,706</td>\n",
       "      <td>12.10%</td>\n",
       "      <td>6266.272727</td>\n",
       "    </tr>\n",
       "    <tr>\n",
       "      <th>Kentucky</th>\n",
       "      <td>4,436,974</td>\n",
       "      <td>84.20%</td>\n",
       "      <td>22.30%</td>\n",
       "      <td>6.00%</td>\n",
       "      <td>$24,063</td>\n",
       "      <td>18.50%</td>\n",
       "      <td>10849.545455</td>\n",
       "    </tr>\n",
       "    <tr>\n",
       "      <th>Louisiana</th>\n",
       "      <td>4,681,666</td>\n",
       "      <td>83.40%</td>\n",
       "      <td>22.50%</td>\n",
       "      <td>11.90%</td>\n",
       "      <td>$24,981</td>\n",
       "      <td>20.20%</td>\n",
       "      <td>12102.181818</td>\n",
       "    </tr>\n",
       "    <tr>\n",
       "      <th>Maine</th>\n",
       "      <td>1,331,479</td>\n",
       "      <td>91.60%</td>\n",
       "      <td>29.00%</td>\n",
       "      <td>9.90%</td>\n",
       "      <td>$27,655</td>\n",
       "      <td>12.50%</td>\n",
       "      <td>3549.272727</td>\n",
       "    </tr>\n",
       "    <tr>\n",
       "      <th>Maryland</th>\n",
       "      <td>6,016,447</td>\n",
       "      <td>89.40%</td>\n",
       "      <td>37.90%</td>\n",
       "      <td>7.00%</td>\n",
       "      <td>$36,897</td>\n",
       "      <td>9.70%</td>\n",
       "      <td>4432.545455</td>\n",
       "    </tr>\n",
       "    <tr>\n",
       "      <th>Massachusetts</th>\n",
       "      <td>6,811,779</td>\n",
       "      <td>89.80%</td>\n",
       "      <td>40.50%</td>\n",
       "      <td>2.90%</td>\n",
       "      <td>$36,895</td>\n",
       "      <td>10.40%</td>\n",
       "      <td>5867.090909</td>\n",
       "    </tr>\n",
       "    <tr>\n",
       "      <th>Michigan</th>\n",
       "      <td>9,928,300</td>\n",
       "      <td>89.60%</td>\n",
       "      <td>26.90%</td>\n",
       "      <td>6.30%</td>\n",
       "      <td>$26,607</td>\n",
       "      <td>15.00%</td>\n",
       "      <td>12217.909091</td>\n",
       "    </tr>\n",
       "    <tr>\n",
       "      <th>Minnesota</th>\n",
       "      <td>5,519,952</td>\n",
       "      <td>92.40%</td>\n",
       "      <td>33.70%</td>\n",
       "      <td>4.80%</td>\n",
       "      <td>$32,157</td>\n",
       "      <td>9.90%</td>\n",
       "      <td>9361.000000</td>\n",
       "    </tr>\n",
       "    <tr>\n",
       "      <th>Mississippi</th>\n",
       "      <td>2,988,726</td>\n",
       "      <td>82.30%</td>\n",
       "      <td>20.70%</td>\n",
       "      <td>13.90%</td>\n",
       "      <td>$21,057</td>\n",
       "      <td>20.80%</td>\n",
       "      <td>8767.909091</td>\n",
       "    </tr>\n",
       "    <tr>\n",
       "      <th>Missouri</th>\n",
       "      <td>6,093,000</td>\n",
       "      <td>88.40%</td>\n",
       "      <td>27.10%</td>\n",
       "      <td>10.50%</td>\n",
       "      <td>$26,259</td>\n",
       "      <td>14.00%</td>\n",
       "      <td>21504.818182</td>\n",
       "    </tr>\n",
       "    <tr>\n",
       "      <th>Montana</th>\n",
       "      <td>1,042,520</td>\n",
       "      <td>92.80%</td>\n",
       "      <td>29.50%</td>\n",
       "      <td>9.80%</td>\n",
       "      <td>$26,381</td>\n",
       "      <td>13.30%</td>\n",
       "      <td>2859.636364</td>\n",
       "    </tr>\n",
       "    <tr>\n",
       "      <th>Nebraska</th>\n",
       "      <td>1,907,116</td>\n",
       "      <td>90.70%</td>\n",
       "      <td>29.30%</td>\n",
       "      <td>9.90%</td>\n",
       "      <td>$27,882</td>\n",
       "      <td>11.40%</td>\n",
       "      <td>147.454545</td>\n",
       "    </tr>\n",
       "    <tr>\n",
       "      <th>Nevada</th>\n",
       "      <td>2,940,058</td>\n",
       "      <td>85.10%</td>\n",
       "      <td>23.00%</td>\n",
       "      <td>13.10%</td>\n",
       "      <td>$26,541</td>\n",
       "      <td>13.80%</td>\n",
       "      <td>4972.545455</td>\n",
       "    </tr>\n",
       "    <tr>\n",
       "      <th>New Hampshire</th>\n",
       "      <td>1,334,795</td>\n",
       "      <td>92.30%</td>\n",
       "      <td>34.90%</td>\n",
       "      <td>7.10%</td>\n",
       "      <td>$34,362</td>\n",
       "      <td>7.30%</td>\n",
       "      <td>5410.909091</td>\n",
       "    </tr>\n",
       "    <tr>\n",
       "      <th>New Jersey</th>\n",
       "      <td>8,944,469</td>\n",
       "      <td>88.60%</td>\n",
       "      <td>36.80%</td>\n",
       "      <td>9.20%</td>\n",
       "      <td>$36,582</td>\n",
       "      <td>10.40%</td>\n",
       "      <td>5288.454545</td>\n",
       "    </tr>\n",
       "    <tr>\n",
       "      <th>New Mexico</th>\n",
       "      <td>2081015</td>\n",
       "      <td>0.842</td>\n",
       "      <td>0.263</td>\n",
       "      <td>0.108</td>\n",
       "      <td>24012</td>\n",
       "      <td>0.198</td>\n",
       "      <td>5760.545455</td>\n",
       "    </tr>\n",
       "    <tr>\n",
       "      <th>New York</th>\n",
       "      <td>19745289</td>\n",
       "      <td>0.856</td>\n",
       "      <td>0.342</td>\n",
       "      <td>0.07</td>\n",
       "      <td>33236</td>\n",
       "      <td>0.147</td>\n",
       "      <td>10876.000000</td>\n",
       "    </tr>\n",
       "    <tr>\n",
       "      <th>North Carolina</th>\n",
       "      <td>10146788</td>\n",
       "      <td>0.858</td>\n",
       "      <td>0.284</td>\n",
       "      <td>0.122</td>\n",
       "      <td>25920</td>\n",
       "      <td>0.154</td>\n",
       "      <td>1447.909091</td>\n",
       "    </tr>\n",
       "    <tr>\n",
       "      <th>North Dakota</th>\n",
       "      <td>757952</td>\n",
       "      <td>0.917</td>\n",
       "      <td>0.277</td>\n",
       "      <td>0.081</td>\n",
       "      <td>32035</td>\n",
       "      <td>0.107</td>\n",
       "      <td>1637.181818</td>\n",
       "    </tr>\n",
       "    <tr>\n",
       "      <th>Ohio</th>\n",
       "      <td>11614373</td>\n",
       "      <td>0.891</td>\n",
       "      <td>0.261</td>\n",
       "      <td>0.066</td>\n",
       "      <td>26953</td>\n",
       "      <td>0.146</td>\n",
       "      <td>29363.545455</td>\n",
       "    </tr>\n",
       "    <tr>\n",
       "      <th>Oklahoma</th>\n",
       "      <td>3923561</td>\n",
       "      <td>0.869</td>\n",
       "      <td>0.241</td>\n",
       "      <td>0.161</td>\n",
       "      <td>25032</td>\n",
       "      <td>0.163</td>\n",
       "      <td>12465.727273</td>\n",
       "    </tr>\n",
       "    <tr>\n",
       "      <th>Oregon</th>\n",
       "      <td>4093465</td>\n",
       "      <td>0.898</td>\n",
       "      <td>0.308</td>\n",
       "      <td>0.073</td>\n",
       "      <td>27684</td>\n",
       "      <td>0.133</td>\n",
       "      <td>14375.363636</td>\n",
       "    </tr>\n",
       "    <tr>\n",
       "      <th>Pennsylvania</th>\n",
       "      <td>12784227</td>\n",
       "      <td>0.892</td>\n",
       "      <td>0.286</td>\n",
       "      <td>0.067</td>\n",
       "      <td>29291</td>\n",
       "      <td>0.129</td>\n",
       "      <td>49092.000000</td>\n",
       "    </tr>\n",
       "    <tr>\n",
       "      <th>Rhode Island</th>\n",
       "      <td>1056426</td>\n",
       "      <td>0.862</td>\n",
       "      <td>0.319</td>\n",
       "      <td>0.051</td>\n",
       "      <td>31118</td>\n",
       "      <td>0.128</td>\n",
       "      <td>1120.454545</td>\n",
       "    </tr>\n",
       "    <tr>\n",
       "      <th>South Carolina</th>\n",
       "      <td>4961119</td>\n",
       "      <td>0.856</td>\n",
       "      <td>0.258</td>\n",
       "      <td>0.119</td>\n",
       "      <td>24604</td>\n",
       "      <td>0.153</td>\n",
       "      <td>10649.454545</td>\n",
       "    </tr>\n",
       "    <tr>\n",
       "      <th>South Dakota</th>\n",
       "      <td>865454</td>\n",
       "      <td>0.909</td>\n",
       "      <td>0.27</td>\n",
       "      <td>0.103</td>\n",
       "      <td>26747</td>\n",
       "      <td>0.133</td>\n",
       "      <td>2708.181818</td>\n",
       "    </tr>\n",
       "    <tr>\n",
       "      <th>Tennessee</th>\n",
       "      <td>6651194</td>\n",
       "      <td>0.855</td>\n",
       "      <td>0.249</td>\n",
       "      <td>0.106</td>\n",
       "      <td>25227</td>\n",
       "      <td>0.158</td>\n",
       "      <td>25349.090909</td>\n",
       "    </tr>\n",
       "    <tr>\n",
       "      <th>Texas</th>\n",
       "      <td>27,862,596</td>\n",
       "      <td>81.90%</td>\n",
       "      <td>27.60%</td>\n",
       "      <td>18.60%</td>\n",
       "      <td>$26,999</td>\n",
       "      <td>15.60%</td>\n",
       "      <td>48451.909091</td>\n",
       "    </tr>\n",
       "    <tr>\n",
       "      <th>Utah</th>\n",
       "      <td>3,051,217</td>\n",
       "      <td>91.20%</td>\n",
       "      <td>31.10%</td>\n",
       "      <td>9.70%</td>\n",
       "      <td>$24,686</td>\n",
       "      <td>10.20%</td>\n",
       "      <td>3825.727273</td>\n",
       "    </tr>\n",
       "    <tr>\n",
       "      <th>Vermont</th>\n",
       "      <td>624,594</td>\n",
       "      <td>91.80%</td>\n",
       "      <td>36.00%</td>\n",
       "      <td>4.50%</td>\n",
       "      <td>$29,894</td>\n",
       "      <td>11.90%</td>\n",
       "      <td>1496.909091</td>\n",
       "    </tr>\n",
       "    <tr>\n",
       "      <th>Virginia</th>\n",
       "      <td>8,411,808</td>\n",
       "      <td>88.30%</td>\n",
       "      <td>36.30%</td>\n",
       "      <td>10.10%</td>\n",
       "      <td>$34,152</td>\n",
       "      <td>11.00%</td>\n",
       "      <td>25141.090909</td>\n",
       "    </tr>\n",
       "    <tr>\n",
       "      <th>Washington</th>\n",
       "      <td>7,288,000</td>\n",
       "      <td>90.40%</td>\n",
       "      <td>32.90%</td>\n",
       "      <td>6.90%</td>\n",
       "      <td>$31,762</td>\n",
       "      <td>11.30%</td>\n",
       "      <td>16883.454545</td>\n",
       "    </tr>\n",
       "    <tr>\n",
       "      <th>West Virginia</th>\n",
       "      <td>1,831,102</td>\n",
       "      <td>85.00%</td>\n",
       "      <td>19.20%</td>\n",
       "      <td>6.50%</td>\n",
       "      <td>$23,450</td>\n",
       "      <td>17.90%</td>\n",
       "      <td>6844.909091</td>\n",
       "    </tr>\n",
       "    <tr>\n",
       "      <th>Wisconsin</th>\n",
       "      <td>5,778,708</td>\n",
       "      <td>91.00%</td>\n",
       "      <td>27.80%</td>\n",
       "      <td>6.20%</td>\n",
       "      <td>$28,340</td>\n",
       "      <td>11.80%</td>\n",
       "      <td>14899.545455</td>\n",
       "    </tr>\n",
       "    <tr>\n",
       "      <th>Wyoming</th>\n",
       "      <td>585,501</td>\n",
       "      <td>92.30%</td>\n",
       "      <td>25.70%</td>\n",
       "      <td>13.40%</td>\n",
       "      <td>$29,803</td>\n",
       "      <td>11.30%</td>\n",
       "      <td>1685.727273</td>\n",
       "    </tr>\n",
       "  </tbody>\n",
       "</table>\n",
       "</div>"
      ],
      "text/plain": [
       "                Population Graduate(%) Degree(%) No Insurance(%) Incomes($)  \\\n",
       "State                                                                         \n",
       "Alabama          4,863,300      84.30%    23.50%          10.70%   $24,091    \n",
       "Alaska             741,894      92.10%    28.00%          15.50%   $33,413    \n",
       "Arizona          6,931,071      86.00%    27.50%          11.90%   $25,848    \n",
       "Arkansas         2,988,248      84.80%    21.10%           9.30%   $22,798    \n",
       "California      39,250,017      81.80%    31.40%           8.30%   $30,318    \n",
       "Colorado         5,540,545      90.70%    38.10%           8.60%   $32,217    \n",
       "Connecticut      3,576,452      89.90%    37.60%           5.70%   $38,803    \n",
       "Delaware           952,065      88.40%    30.00%           6.60%   $30,554    \n",
       "Florida         20,612,439      86.90%    27.30%          15.30%   $26,829    \n",
       "Georgia         10,310,371      85.40%    28.80%          14.80%   $25,737    \n",
       "Hawaii           1,428,557      91.00%    30.80%           4.20%   $29,822    \n",
       "Idaho            1,683,140      89.50%    25.90%          11.80%   $23,399    \n",
       "Illinois        12,801,539      87.90%    32.30%           7.40%   $30,494    \n",
       "Indiana          6,633,053      87.80%    24.10%           9.40%   $25,346    \n",
       "Iowa             3,134,693      91.50%    26.70%           5.00%   $27,950    \n",
       "Kansas           2,907,289      90.20%    31.00%          10.10%   $27,706    \n",
       "Kentucky         4,436,974      84.20%    22.30%           6.00%   $24,063    \n",
       "Louisiana        4,681,666      83.40%    22.50%          11.90%   $24,981    \n",
       "Maine            1,331,479      91.60%    29.00%           9.90%   $27,655    \n",
       "Maryland         6,016,447      89.40%    37.90%           7.00%   $36,897    \n",
       "Massachusetts    6,811,779      89.80%    40.50%           2.90%   $36,895    \n",
       "Michigan         9,928,300      89.60%    26.90%           6.30%   $26,607    \n",
       "Minnesota        5,519,952      92.40%    33.70%           4.80%   $32,157    \n",
       "Mississippi      2,988,726      82.30%    20.70%          13.90%   $21,057    \n",
       "Missouri         6,093,000      88.40%    27.10%          10.50%   $26,259    \n",
       "Montana          1,042,520      92.80%    29.50%           9.80%   $26,381    \n",
       "Nebraska         1,907,116      90.70%    29.30%           9.90%   $27,882    \n",
       "Nevada           2,940,058      85.10%    23.00%          13.10%   $26,541    \n",
       "New Hampshire    1,334,795      92.30%    34.90%           7.10%   $34,362    \n",
       "New Jersey       8,944,469      88.60%    36.80%           9.20%   $36,582    \n",
       "New Mexico         2081015       0.842     0.263           0.108      24012   \n",
       "New York          19745289       0.856     0.342            0.07      33236   \n",
       "North Carolina    10146788       0.858     0.284           0.122      25920   \n",
       "North Dakota        757952       0.917     0.277           0.081      32035   \n",
       "Ohio              11614373       0.891     0.261           0.066      26953   \n",
       "Oklahoma           3923561       0.869     0.241           0.161      25032   \n",
       "Oregon             4093465       0.898     0.308           0.073      27684   \n",
       "Pennsylvania      12784227       0.892     0.286           0.067      29291   \n",
       "Rhode Island       1056426       0.862     0.319           0.051      31118   \n",
       "South Carolina     4961119       0.856     0.258           0.119      24604   \n",
       "South Dakota        865454       0.909      0.27           0.103      26747   \n",
       "Tennessee          6651194       0.855     0.249           0.106      25227   \n",
       "Texas           27,862,596      81.90%    27.60%          18.60%   $26,999    \n",
       "Utah             3,051,217      91.20%    31.10%           9.70%   $24,686    \n",
       "Vermont            624,594      91.80%    36.00%           4.50%   $29,894    \n",
       "Virginia         8,411,808      88.30%    36.30%          10.10%   $34,152    \n",
       "Washington       7,288,000      90.40%    32.90%           6.90%   $31,762    \n",
       "West Virginia    1,831,102      85.00%    19.20%           6.50%   $23,450    \n",
       "Wisconsin        5,778,708      91.00%    27.80%           6.20%   $28,340    \n",
       "Wyoming            585,501      92.30%    25.70%          13.40%   $29,803    \n",
       "\n",
       "               Poverty(%)       Handgun  \n",
       "State                                    \n",
       "Alabama            17.10%   8430.181818  \n",
       "Alaska              9.90%   2916.272727  \n",
       "Arizona            16.40%  13132.090909  \n",
       "Arkansas           17.20%   6134.090909  \n",
       "California         14.30%  45531.272727  \n",
       "Colorado           11.00%  19281.454545  \n",
       "Connecticut         9.80%   6309.454545  \n",
       "Delaware           11.70%   1980.727273  \n",
       "Florida            14.70%  53799.454545  \n",
       "Georgia            16.00%  14998.818182  \n",
       "Hawaii              9.30%      0.000000  \n",
       "Idaho              14.40%   3754.272727  \n",
       "Illinois           13.00%  24201.545455  \n",
       "Indiana            14.10%  21761.636364  \n",
       "Iowa               11.80%    229.909091  \n",
       "Kansas             12.10%   6266.272727  \n",
       "Kentucky           18.50%  10849.545455  \n",
       "Louisiana          20.20%  12102.181818  \n",
       "Maine              12.50%   3549.272727  \n",
       "Maryland            9.70%   4432.545455  \n",
       "Massachusetts      10.40%   5867.090909  \n",
       "Michigan           15.00%  12217.909091  \n",
       "Minnesota           9.90%   9361.000000  \n",
       "Mississippi        20.80%   8767.909091  \n",
       "Missouri           14.00%  21504.818182  \n",
       "Montana            13.30%   2859.636364  \n",
       "Nebraska           11.40%    147.454545  \n",
       "Nevada             13.80%   4972.545455  \n",
       "New Hampshire       7.30%   5410.909091  \n",
       "New Jersey         10.40%   5288.454545  \n",
       "New Mexico          0.198   5760.545455  \n",
       "New York            0.147  10876.000000  \n",
       "North Carolina      0.154   1447.909091  \n",
       "North Dakota        0.107   1637.181818  \n",
       "Ohio                0.146  29363.545455  \n",
       "Oklahoma            0.163  12465.727273  \n",
       "Oregon              0.133  14375.363636  \n",
       "Pennsylvania        0.129  49092.000000  \n",
       "Rhode Island        0.128   1120.454545  \n",
       "South Carolina      0.153  10649.454545  \n",
       "South Dakota        0.133   2708.181818  \n",
       "Tennessee           0.158  25349.090909  \n",
       "Texas              15.60%  48451.909091  \n",
       "Utah               10.20%   3825.727273  \n",
       "Vermont            11.90%   1496.909091  \n",
       "Virginia           11.00%  25141.090909  \n",
       "Washington         11.30%  16883.454545  \n",
       "West Virginia      17.90%   6844.909091  \n",
       "Wisconsin          11.80%  14899.545455  \n",
       "Wyoming            11.30%   1685.727273  "
      ]
     },
     "execution_count": 90,
     "metadata": {},
     "output_type": "execute_result"
    }
   ],
   "source": [
    "#Check the data\n",
    "df"
   ]
  },
  {
   "cell_type": "markdown",
   "metadata": {},
   "source": [
    "> We can see some issues on the format of the data\n",
    "- Percentage field without % shall be multiplied by 100\n",
    "- Population. Comma shall be removed\n",
    "- The incomes without $ look like fine\n",
    "- Hawaii has 0 handgun. It look like an error on the data\n"
   ]
  },
  {
   "cell_type": "code",
   "execution_count": 91,
   "metadata": {},
   "outputs": [],
   "source": [
    "#Remove %, $ y ',\n",
    "removeComma = lambda x: x.replace(',','')\n",
    "removePer = lambda x: float(x)*100 if not '%' in x else x.replace('%','')\n",
    "removeDollar = lambda x: x.replace('$','')\n",
    "\n",
    "df['Population'] = df['Population'].apply(removeComma)\n",
    "df['Graduate(%)'] = df['Graduate(%)'].apply(removePer)\n",
    "df['Degree(%)'] = df['Degree(%)'].apply(removePer)\n",
    "df['No Insurance(%)'] = df['No Insurance(%)'].apply(removePer)\n",
    "df['Incomes($)'] = df['Incomes($)'].apply(removeDollar).apply(removeComma)\n",
    "df['Poverty(%)'] = df['Poverty(%)'].apply(removePer)\n",
    "\n",
    "df.drop('Hawaii', inplace=True)\n",
    "\n",
    "df = df.apply(pd.to_numeric)"
   ]
  },
  {
   "cell_type": "code",
   "execution_count": 92,
   "metadata": {},
   "outputs": [
    {
     "data": {
      "text/plain": [
       "count    49.000000\n",
       "mean      0.002211\n",
       "std       0.001060\n",
       "min       0.000073\n",
       "25%       0.001691\n",
       "50%       0.002231\n",
       "75%       0.002934\n",
       "max       0.004054\n",
       "Name: Handgun Density, dtype: float64"
      ]
     },
     "execution_count": 92,
     "metadata": {},
     "output_type": "execute_result"
    }
   ],
   "source": [
    "#Add column Handgun/Population\n",
    "df['Handgun Density'] = df['Handgun']/df['Population']\n",
    "df['Handgun Density'].describe()"
   ]
  },
  {
   "cell_type": "code",
   "execution_count": 93,
   "metadata": {},
   "outputs": [
    {
     "data": {
      "text/html": [
       "<div>\n",
       "<style>\n",
       "    .dataframe thead tr:only-child th {\n",
       "        text-align: right;\n",
       "    }\n",
       "\n",
       "    .dataframe thead th {\n",
       "        text-align: left;\n",
       "    }\n",
       "\n",
       "    .dataframe tbody tr th {\n",
       "        vertical-align: top;\n",
       "    }\n",
       "</style>\n",
       "<table border=\"1\" class=\"dataframe\">\n",
       "  <thead>\n",
       "    <tr style=\"text-align: right;\">\n",
       "      <th></th>\n",
       "      <th>Population</th>\n",
       "      <th>Graduate(%)</th>\n",
       "      <th>Degree(%)</th>\n",
       "      <th>No Insurance(%)</th>\n",
       "      <th>Incomes($)</th>\n",
       "      <th>Poverty(%)</th>\n",
       "      <th>Handgun</th>\n",
       "      <th>Handgun Density</th>\n",
       "    </tr>\n",
       "    <tr>\n",
       "      <th>State</th>\n",
       "      <th></th>\n",
       "      <th></th>\n",
       "      <th></th>\n",
       "      <th></th>\n",
       "      <th></th>\n",
       "      <th></th>\n",
       "      <th></th>\n",
       "      <th></th>\n",
       "    </tr>\n",
       "  </thead>\n",
       "  <tbody>\n",
       "    <tr>\n",
       "      <th>Alabama</th>\n",
       "      <td>4863300</td>\n",
       "      <td>84.3</td>\n",
       "      <td>23.5</td>\n",
       "      <td>10.7</td>\n",
       "      <td>24091</td>\n",
       "      <td>17.1</td>\n",
       "      <td>8430.181818</td>\n",
       "      <td>0.001733</td>\n",
       "    </tr>\n",
       "    <tr>\n",
       "      <th>Alaska</th>\n",
       "      <td>741894</td>\n",
       "      <td>92.1</td>\n",
       "      <td>28.0</td>\n",
       "      <td>15.5</td>\n",
       "      <td>33413</td>\n",
       "      <td>9.9</td>\n",
       "      <td>2916.272727</td>\n",
       "      <td>0.003931</td>\n",
       "    </tr>\n",
       "    <tr>\n",
       "      <th>Arizona</th>\n",
       "      <td>6931071</td>\n",
       "      <td>86.0</td>\n",
       "      <td>27.5</td>\n",
       "      <td>11.9</td>\n",
       "      <td>25848</td>\n",
       "      <td>16.4</td>\n",
       "      <td>13132.090909</td>\n",
       "      <td>0.001895</td>\n",
       "    </tr>\n",
       "    <tr>\n",
       "      <th>Arkansas</th>\n",
       "      <td>2988248</td>\n",
       "      <td>84.8</td>\n",
       "      <td>21.1</td>\n",
       "      <td>9.3</td>\n",
       "      <td>22798</td>\n",
       "      <td>17.2</td>\n",
       "      <td>6134.090909</td>\n",
       "      <td>0.002053</td>\n",
       "    </tr>\n",
       "    <tr>\n",
       "      <th>Colorado</th>\n",
       "      <td>5540545</td>\n",
       "      <td>90.7</td>\n",
       "      <td>38.1</td>\n",
       "      <td>8.6</td>\n",
       "      <td>32217</td>\n",
       "      <td>11.0</td>\n",
       "      <td>19281.454545</td>\n",
       "      <td>0.003480</td>\n",
       "    </tr>\n",
       "  </tbody>\n",
       "</table>\n",
       "</div>"
      ],
      "text/plain": [
       "          Population  Graduate(%)  Degree(%)  No Insurance(%)  Incomes($)  \\\n",
       "State                                                                       \n",
       "Alabama      4863300         84.3       23.5             10.7       24091   \n",
       "Alaska        741894         92.1       28.0             15.5       33413   \n",
       "Arizona      6931071         86.0       27.5             11.9       25848   \n",
       "Arkansas     2988248         84.8       21.1              9.3       22798   \n",
       "Colorado     5540545         90.7       38.1              8.6       32217   \n",
       "\n",
       "          Poverty(%)       Handgun  Handgun Density  \n",
       "State                                                \n",
       "Alabama         17.1   8430.181818         0.001733  \n",
       "Alaska           9.9   2916.272727         0.003931  \n",
       "Arizona         16.4  13132.090909         0.001895  \n",
       "Arkansas        17.2   6134.090909         0.002053  \n",
       "Colorado        11.0  19281.454545         0.003480  "
      ]
     },
     "execution_count": 93,
     "metadata": {},
     "output_type": "execute_result"
    }
   ],
   "source": [
    "#Clean <25% or >75% Handgun data\n",
    "filtered_df=df[df['Handgun Density'] >= 0.001691]\n",
    "filtered_df=filtered_df[filtered_df['Handgun Density'] <= 0.004054]\n",
    "filtered_df.head()"
   ]
  },
  {
   "cell_type": "code",
   "execution_count": 94,
   "metadata": {
    "scrolled": true
   },
   "outputs": [
    {
     "name": "stdout",
     "output_type": "stream",
     "text": [
      "count    37.000000\n",
      "mean      0.002680\n",
      "std       0.000711\n",
      "min       0.001691\n",
      "25%       0.002147\n",
      "50%       0.002585\n",
      "75%       0.003177\n",
      "max       0.004054\n",
      "Name: Handgun Density, dtype: float64\n",
      "STD/MEAN: 0.265157208028867\n"
     ]
    }
   ],
   "source": [
    "print (filtered_df['Handgun Density'].describe())\n",
    "print (\"STD/MEAN: {0}\".format(filtered_df['Handgun Density'].std()/filtered_df['Handgun Density'].mean()))"
   ]
  },
  {
   "cell_type": "code",
   "execution_count": 95,
   "metadata": {},
   "outputs": [
    {
     "data": {
      "text/plain": [
       "array([[<matplotlib.axes._subplots.AxesSubplot object at 0x7f58a49272e8>,\n",
       "        <matplotlib.axes._subplots.AxesSubplot object at 0x7f58a50bb208>,\n",
       "        <matplotlib.axes._subplots.AxesSubplot object at 0x7f58a4e0dda0>],\n",
       "       [<matplotlib.axes._subplots.AxesSubplot object at 0x7f58a011e4e0>,\n",
       "        <matplotlib.axes._subplots.AxesSubplot object at 0x7f58a443e400>,\n",
       "        <matplotlib.axes._subplots.AxesSubplot object at 0x7f58a443e208>],\n",
       "       [<matplotlib.axes._subplots.AxesSubplot object at 0x7f58a20185f8>,\n",
       "        <matplotlib.axes._subplots.AxesSubplot object at 0x7f58a20a6710>,\n",
       "        <matplotlib.axes._subplots.AxesSubplot object at 0x7f58a4cd2cc0>]], dtype=object)"
      ]
     },
     "execution_count": 95,
     "metadata": {},
     "output_type": "execute_result"
    },
    {
     "data": {
      "image/png": "[encoded data removed]",
      "text/plain": [
       "<matplotlib.figure.Figure at 0x7f58a489c668>"
      ]
     },
     "metadata": {
      "needs_background": "light"
     },
     "output_type": "display_data"
    }
   ],
   "source": [
    "filtered_df.hist(figsize=(20,8))"
   ]
  },
  {
   "cell_type": "markdown",
   "metadata": {},
   "source": [
    "<a id='eda'></a>\n",
    "## Exploratory Data Analysis\n",
    "\n",
    "### Is there a relationship between the density of small arms and poverty, education or sanitary security?"
   ]
  },
  {
   "cell_type": "code",
   "execution_count": 96,
   "metadata": {},
   "outputs": [
    {
     "name": "stdout",
     "output_type": "stream",
     "text": [
      "count    37.000000\n",
      "mean      0.000099\n",
      "std       0.000032\n",
      "min       0.000047\n",
      "25%       0.000074\n",
      "50%       0.000093\n",
      "75%       0.000116\n",
      "max       0.000195\n",
      "dtype: float64\n",
      "STD/MEAN: 0.32428872053145963\n"
     ]
    },
    {
     "data": {
      "image/png": "[encoded data removed]",
      "text/plain": [
       "<matplotlib.figure.Figure at 0x7f589af73a90>"
      ]
     },
     "metadata": {
      "needs_background": "light"
     },
     "output_type": "display_data"
    },
    {
     "data": {
      "text/plain": [
       "<matplotlib.axes._subplots.AxesSubplot at 0x7f589aee8e10>"
      ]
     },
     "execution_count": 96,
     "metadata": {},
     "output_type": "execute_result"
    },
    {
     "data": {
      "image/png": "[encoded data removed]",
      "text/plain": [
       "<matplotlib.figure.Figure at 0x7f58a4cf27b8>"
      ]
     },
     "metadata": {
      "needs_background": "light"
     },
     "output_type": "display_data"
    }
   ],
   "source": [
    "result = filtered_df['Handgun Density']/filtered_df['Degree(%)']\n",
    "print (result.describe())\n",
    "print (\"STD/MEAN: {0}\".format(result.std()/result.mean()))\n",
    "result.plot(kind='bar',figsize=(20,8),color='blue',title='Handgun Density/Degree(%)')\n",
    "plt.ylabel(\"Relation Factor\")\n",
    "plt.show()\n",
    "sns.regplot(x=filtered_df['Handgun Density'], y=filtered_df['Degree(%)'])"
   ]
  },
  {
   "cell_type": "markdown",
   "metadata": {},
   "source": [
    "> It seems that a university degree does not affect to the handgun density"
   ]
  },
  {
   "cell_type": "code",
   "execution_count": 97,
   "metadata": {},
   "outputs": [
    {
     "name": "stdout",
     "output_type": "stream",
     "text": [
      "count    37.000000\n",
      "mean      0.000030\n",
      "std       0.000008\n",
      "min       0.000018\n",
      "25%       0.000024\n",
      "50%       0.000029\n",
      "75%       0.000037\n",
      "max       0.000045\n",
      "dtype: float64\n",
      "STD/MEAN: 0.2602836996354789\n"
     ]
    },
    {
     "data": {
      "image/png": "[encoded data removed]",
      "text/plain": [
       "<matplotlib.figure.Figure at 0x7f589add0978>"
      ]
     },
     "metadata": {
      "needs_background": "light"
     },
     "output_type": "display_data"
    },
    {
     "data": {
      "text/plain": [
       "<matplotlib.axes._subplots.AxesSubplot at 0x7f589ad15668>"
      ]
     },
     "execution_count": 97,
     "metadata": {},
     "output_type": "execute_result"
    },
    {
     "data": {
      "image/png": "[encoded data removed]",
      "text/plain": [
       "<matplotlib.figure.Figure at 0x7f589ae8b128>"
      ]
     },
     "metadata": {
      "needs_background": "light"
     },
     "output_type": "display_data"
    }
   ],
   "source": [
    "result = filtered_df['Handgun Density']/filtered_df['Graduate(%)']\n",
    "print (result.describe())\n",
    "print (\"STD/MEAN: {0}\".format(result.std()/result.mean()))\n",
    "result.plot(kind='bar',figsize=(20,8),color='orange',title='Handgun Density/Graduate(%)')\n",
    "plt.ylabel(\"Relation Factor\")\n",
    "plt.show()\n",
    "sns.regplot(x=filtered_df['Handgun Density'], y=filtered_df['Graduate(%)'])"
   ]
  },
  {
   "cell_type": "markdown",
   "metadata": {},
   "source": [
    "> It seems that there is a slight correlation and the density of handgun increases with the increase in the number of high school graduates.\n",
    "Although we could hope otherwise."
   ]
  },
  {
   "cell_type": "code",
   "execution_count": 98,
   "metadata": {},
   "outputs": [
    {
     "name": "stdout",
     "output_type": "stream",
     "text": [
      "count    37.000000\n",
      "mean      0.000304\n",
      "std       0.000126\n",
      "min       0.000093\n",
      "25%       0.000213\n",
      "50%       0.000280\n",
      "75%       0.000360\n",
      "max       0.000575\n",
      "dtype: float64\n",
      "STD/MEAN: 0.4154225964301723\n"
     ]
    },
    {
     "data": {
      "image/png": "[encoded data removed]",
      "text/plain": [
       "<matplotlib.figure.Figure at 0x7f589aca39e8>"
      ]
     },
     "metadata": {
      "needs_background": "light"
     },
     "output_type": "display_data"
    },
    {
     "data": {
      "text/plain": [
       "<matplotlib.axes._subplots.AxesSubplot at 0x7f589ac1fc50>"
      ]
     },
     "execution_count": 98,
     "metadata": {},
     "output_type": "execute_result"
    },
    {
     "data": {
      "image/png": "[encoded data removed]",
      "text/plain": [
       "<matplotlib.figure.Figure at 0x7f589aec0a90>"
      ]
     },
     "metadata": {
      "needs_background": "light"
     },
     "output_type": "display_data"
    }
   ],
   "source": [
    "result = filtered_df['Handgun Density']/filtered_df['No Insurance(%)']\n",
    "print (result.describe())\n",
    "print (\"STD/MEAN: {0}\".format(result.std()/result.mean()))\n",
    "result.plot(kind='bar',figsize=(20,8),color='green',title='Handgun Density/No Insurance(%)')\n",
    "plt.ylabel(\"Relation Factor\")\n",
    "plt.show()\n",
    "sns.regplot(x=filtered_df['Handgun Density'], y=filtered_df['No Insurance(%)'])"
   ]
  },
  {
   "cell_type": "markdown",
   "metadata": {},
   "source": [
    "> It seems that the percentage of population with health insurance does not affect to the handgun density"
   ]
  },
  {
   "cell_type": "code",
   "execution_count": 99,
   "metadata": {},
   "outputs": [
    {
     "name": "stdout",
     "output_type": "stream",
     "text": [
      "count    37.000000\n",
      "mean      0.000205\n",
      "std       0.000087\n",
      "min       0.000101\n",
      "25%       0.000141\n",
      "50%       0.000195\n",
      "75%       0.000235\n",
      "max       0.000555\n",
      "dtype: float64\n",
      "STD/MEAN: 0.42521397120159865\n"
     ]
    },
    {
     "data": {
      "image/png": "[encoded data removed]",
      "text/plain": [
       "<matplotlib.figure.Figure at 0x7f589ab0ad30>"
      ]
     },
     "metadata": {
      "needs_background": "light"
     },
     "output_type": "display_data"
    },
    {
     "data": {
      "text/plain": [
       "<matplotlib.axes._subplots.AxesSubplot at 0x7f589ade6588>"
      ]
     },
     "execution_count": 99,
     "metadata": {},
     "output_type": "execute_result"
    },
    {
     "data": {
      "image/png": "[encoded data removed]",
      "text/plain": [
       "<matplotlib.figure.Figure at 0x7f589ad75fd0>"
      ]
     },
     "metadata": {
      "needs_background": "light"
     },
     "output_type": "display_data"
    }
   ],
   "source": [
    "result = filtered_df['Handgun Density']/filtered_df['Poverty(%)']\n",
    "print (result.describe())\n",
    "print (\"STD/MEAN: {0}\".format(result.std()/result.mean()))\n",
    "result.plot(kind='bar',figsize=(20,8),color='purple',title='Handgun Density/Poverty(%)')\n",
    "plt.ylabel(\"Relation Factor\")\n",
    "plt.show()\n",
    "sns.regplot(x=filtered_df['Handgun Density'], y=filtered_df['Poverty(%)'])"
   ]
  },
  {
   "cell_type": "markdown",
   "metadata": {},
   "source": [
    "> It seems that there is a slight correlation and the handgun density increases slightly with the decrease in poverty. Although we could also expect the opposite"
   ]
  },
  {
   "cell_type": "markdown",
   "metadata": {},
   "source": [
    "> It can be seen that none of the variables significantly affects the density of small arms. Although there is a small relationship between the level of studies and wealth. Affecting the increase of both to a slight increase in the density of the number of weapons"
   ]
  },
  {
   "cell_type": "markdown",
   "metadata": {},
   "source": [
    "###  What variable of the above affects more the density of small handgun?"
   ]
  },
  {
   "cell_type": "markdown",
   "metadata": {},
   "source": [
    "> The STD/MEAN for the density of short weapons is 0.265\n",
    "The only variable that reduces (0.260) the previous value is education (Graduate on High School)"
   ]
  },
  {
   "cell_type": "markdown",
   "metadata": {},
   "source": [
    "### Witch state has the highest number of gun owners? Witch the lowest? What differences are ther between this two states?"
   ]
  },
  {
   "cell_type": "code",
   "execution_count": 102,
   "metadata": {},
   "outputs": [
    {
     "data": {
      "text/plain": [
       "Text(0,0.5,'States')"
      ]
     },
     "execution_count": 102,
     "metadata": {},
     "output_type": "execute_result"
    },
    {
     "data": {
      "image/png": "[encoded data removed]",
      "text/plain": [
       "<matplotlib.figure.Figure at 0x7f589ad1bf60>"
      ]
     },
     "metadata": {
      "needs_background": "light"
     },
     "output_type": "display_data"
    }
   ],
   "source": [
    "df_hd_sum = df['Handgun Density'].sum()\n",
    "df_hd_per = (df['Handgun Density']/df_hd_sum).sort_values()\n",
    "#df_hd_per.sort_values().plot(kind='Pie', figsize=(25,25))\n",
    "\n",
    "my_range=range(1,len(df_hd_per.index)+1)\n",
    " \n",
    "# The vertival plot is made using the hline function\n",
    "# I load the seaborn library only to benefit the nice looking feature\n",
    "plt.hlines(y=my_range, xmin=0, xmax=df_hd_per.values, color='skyblue')\n",
    "plt.plot(df_hd_per.values, my_range, \"o\")\n",
    "\n",
    "# Add title and exis names\n",
    "plt.yticks(my_range, df_hd_per.index)\n",
    "plt.title(\"What state has the highest number of gun owners?\", loc='left')\n",
    "plt.xlabel('Handgun Density')\n",
    "plt.ylabel('States')"
   ]
  },
  {
   "cell_type": "markdown",
   "metadata": {},
   "source": [
    "> The state with highest handgun density is New Hampshire"
   ]
  },
  {
   "cell_type": "markdown",
   "metadata": {},
   "source": [
    "> The state with lowest handgun density is Iowa"
   ]
  },
  {
   "cell_type": "code",
   "execution_count": 103,
   "metadata": {},
   "outputs": [
    {
     "data": {
      "image/png": "[encoded data removed]",
      "text/plain": [
       "<matplotlib.figure.Figure at 0x7f58a489c128>"
      ]
     },
     "metadata": {
      "needs_background": "light"
     },
     "output_type": "display_data"
    }
   ],
   "source": [
    "# Data\n",
    "r = [0,1,2,3,4,5,6,7]\n",
    "raw_data = {'New Hampshire': df.loc['New Hampshire'].values, 'Iowa': df.loc['Iowa'].values}\n",
    "\n",
    "# From raw value to percentage\n",
    "totals = [i+j for i,j in zip(df.loc['New Hampshire'], df.loc['Iowa'])]\n",
    "greenBars = [i / j * 100 for i,j in zip(df.loc['New Hampshire'], totals)]\n",
    "orangeBars = [i / j * 100 for i,j in zip(df.loc['Iowa'], totals)]\n",
    " \n",
    "# plot\n",
    "barWidth = 0.85\n",
    "names = df.columns.values\n",
    "\n",
    "# Create green Bars\n",
    "plt.bar(r, greenBars, color='#b5ffb9', edgecolor='white', width=barWidth, label='New Hampshire')\n",
    "# Create orange Bars\n",
    "plt.bar(r, orangeBars, bottom=greenBars, color='#f9bc86', edgecolor='white', width=barWidth, label='Iowa')\n",
    "\n",
    "# Custom x axis\n",
    "plt.xticks(r, names)\n",
    "plt.xlabel(\"Factors\")\n",
    "plt.ylabel(\"Comparison\")\n",
    " \n",
    "# Show graphic\n",
    "plt.rcParams[\"figure.figsize\"] = [20,10]\n",
    "plt.legend()\n",
    "plt.show()\n"
   ]
  },
  {
   "cell_type": "markdown",
   "metadata": {},
   "source": [
    "> The differences between the two extreme states regarding the density of handgun are not very large in percentage. There is a slight better education and wealth level in 'New Hampshire' (the state with more weapons) aligned with previous observations"
   ]
  },
  {
   "cell_type": "markdown",
   "metadata": {},
   "source": [
    "<a id='conclusions'></a>\n",
    "## Conclusions\n",
    "\n",
    "> As a final conclusion, there is no clear relationship in the chosen data (although it could initially appear)\n",
    "Education and wealth influences but very little significantly, slightly homogenizing the differences between states\n",
    "\n",
    "> This findings are tentative and you can not establish a clear causality without a deeper study\n",
    "\n",
    "> It is necessary to perform more complex analyzes to give answers to the questions raised at the beginning of this analysis.\n",
    "Analyze, for example, how the policy or the violence index might be interesting\n",
    "\n",
    "> Data Reference:\n",
    "The data comes from the FBI's\n",
    "National Instant Criminal Background\n",
    "Check System. The NICS is used by to\n",
    "determine whether a prospective\n",
    "buyer is eligible to buy firearms or\n",
    "explosives. Gun shops call into this\n",
    "system to ensure that each customer\n",
    "does not have a criminal record or\n",
    "isn’t otherwise ineligible to make a\n",
    "purchase. The data has been\n",
    "supplemented with state level data\n",
    "from <a href=\"census.gov\">census.gov</a>."
   ]
  },
  {
   "cell_type": "code",
   "execution_count": 104,
   "metadata": {},
   "outputs": [
    {
     "data": {
      "text/plain": [
       "0"
      ]
     },
     "execution_count": 104,
     "metadata": {},
     "output_type": "execute_result"
    }
   ],
   "source": [
    "from subprocess import call\n",
    "call(['python', '-m', 'nbconvert', 'Investigate_a_Dataset.ipynb'])"
   ]
  }
 ],
 "metadata": {
  "kernelspec": {
   "display_name": "Python 3",
   "language": "python",
   "name": "python3"
  },
  "language_info": {
   "codemirror_mode": {
    "name": "ipython",
    "version": 3
   },
   "file_extension": ".py",
   "mimetype": "text/x-python",
   "name": "python",
   "nbconvert_exporter": "python",
   "pygments_lexer": "ipython3",
   "version": "3.6.3"
  }
 },
 "nbformat": 4,
 "nbformat_minor": 2
}
